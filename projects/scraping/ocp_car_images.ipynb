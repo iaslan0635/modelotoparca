{
 "cells": [
  {
   "cell_type": "code",
   "execution_count": 16,
   "metadata": {},
   "outputs": [],
   "source": [
    "import re\n",
    "from typing import cast\n",
    "\n",
    "import bs4\n",
    "import ocp_client\n",
    "import utils\n",
    "from rich.progress import track"
   ]
  },
  {
   "cell_type": "code",
   "execution_count": 17,
   "metadata": {},
   "outputs": [],
   "source": [
    "def get_maker_urls(subcat_url: str):\n",
    "    soup = utils.soup(subcat_url)\n",
    "    return [utils.get_link(el) for el in soup.select(\"a.top-auto-item__image\")]\n",
    "\n",
    "def parse_vehicle_permalink(permalink: str):\n",
    "    r = re.match(r\"https://www.onlinecarparts.co.uk/spare-parts/(.+)/brake-pads/(.+).html\", \"https://www.onlinecarparts.co.uk/spare-parts/bmw/brake-pads/3-e90.html\")\n",
    "    maker, model = r.groups()\n",
    "    return f\"{maker}/{model}\"\n",
    "\n",
    "def get_vehicles(maker_url: str):\n",
    "    soup = utils.soup(maker_url)\n",
    "    return [\n",
    "        (\n",
    "            parse_vehicle_permalink(utils.get_link(el)),\n",
    "            cast(str, el.select_one(\"img\")[\"src\"]),\n",
    "        )\n",
    "        for el in soup.select(\"a.top-auto-item__image\")\n",
    "    ]"
   ]
  },
  {
   "cell_type": "code",
   "execution_count": 18,
   "metadata": {},
   "outputs": [
    {
     "data": {
      "text/plain": [
       "('bmw/3-e90', 'https://scdn.autoteiledirekt.de/groups/170x100/952.png')"
      ]
     },
     "execution_count": 18,
     "metadata": {},
     "output_type": "execute_result"
    }
   ],
   "source": [
    "soup = utils.soup(\"https://www.onlinecarparts.co.uk/spare-parts.html\")\n",
    "subcats = [\n",
    "    (\n",
    "        el.select_one(\".catalog-subcats__name\").text,\n",
    "        utils.get_link(el),\n",
    "    )\n",
    "    for el in soup.select(\"a.catalog-subcats__item\")\n",
    "]\n",
    "\n",
    "maker_urls = get_maker_urls(subcats[0][1])\n",
    "vehicles = get_vehicles(maker_urls[0])\n",
    "vehicles[0]"
   ]
  }
 ],
 "metadata": {
  "kernelspec": {
   "display_name": "scraping-Cbcbn8WD",
   "language": "python",
   "name": "python3"
  },
  "language_info": {
   "codemirror_mode": {
    "name": "ipython",
    "version": 3
   },
   "file_extension": ".py",
   "mimetype": "text/x-python",
   "name": "python",
   "nbconvert_exporter": "python",
   "pygments_lexer": "ipython3",
   "version": "3.10.11"
  }
 },
 "nbformat": 4,
 "nbformat_minor": 2
}
