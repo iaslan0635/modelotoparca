{
 "cells": [
  {
   "cell_type": "code",
   "execution_count": null,
   "metadata": {},
   "outputs": [],
   "source": [
    "import json\n",
    "import re\n",
    "from typing import TypedDict, cast\n",
    "\n",
    "import utils\n",
    "from rich.progress import track\n",
    "\n",
    "\n",
    "def get_maker_urls():\n",
    "    soup = utils.soup(\"https://www.onlinecarparts.co.uk/car-brands.html\")\n",
    "    return [utils.get_link(el) for el in soup.select(\".top-auto .top-auto-item\")]\n",
    "\n",
    "\n",
    "def parse_car_permalink(permalink: str) -> str:\n",
    "    r = re.match(\n",
    "        r\"https://www.onlinecarparts.co.uk/car-brands/spare-parts-(.+?)/(.+).html\",\n",
    "        permalink,\n",
    "    )\n",
    "    maker, model = r.groups()\n",
    "    return f\"{maker}/{model}\"\n",
    "\n",
    "\n",
    "def get_cars(maker_url: str):\n",
    "    soup = utils.soup(maker_url)\n",
    "    return [\n",
    "        (\n",
    "            utils.get_link(el),\n",
    "            cast(str, el.select_one(\"img\")[\"src\"]),\n",
    "        )\n",
    "        for el in soup.select(\".top-auto .top-auto-item\")\n",
    "    ]\n",
    "\n",
    "\n",
    "def get_car_permalinks(car_url: str):\n",
    "    soup = utils.soup(car_url)\n",
    "    links = [utils.get_link(el) for el in soup.select(\".vehicle-list .vehicle-list__link\")]\n",
    "    return [parse_car_permalink(link) for link in links]\n",
    "\n",
    "\n",
    "maker_urls = get_maker_urls()\n",
    "cars = utils.flatten([get_cars(maker_url) for maker_url in track(maker_urls, \"Getting cars\")])\n",
    "\n",
    "\n",
    "class Record(TypedDict):\n",
    "    permalink: str\n",
    "    image: str\n",
    "\n",
    "\n",
    "records = utils.flatten(\n",
    "    [\n",
    "        [Record(permalink=permalink, image=img) for permalink in get_car_permalinks(url)]\n",
    "        for url, img in track(cars, \"Getting permalinks\")\n",
    "    ]\n",
    ")\n",
    "\n",
    "data = utils.mkpath(\"data/ocp_car_images\")\n",
    "record_file = data / \"records.json\"\n",
    "\n",
    "with record_file.open(\"w\") as f:\n",
    "    json.dump(records, f, indent=4)"
   ]
  },
  {
   "cell_type": "markdown",
   "metadata": {},
   "source": [
    "----"
   ]
  },
  {
   "cell_type": "code",
   "execution_count": null,
   "metadata": {},
   "outputs": [],
   "source": [
    "import json\n",
    "from typing import TypedDict, cast\n",
    "import utils\n",
    "import re\n",
    "\n",
    "\n",
    "class Record(TypedDict):\n",
    "    permalink: str\n",
    "    image: str\n",
    "\n",
    "\n",
    "data = utils.mkpath(\"data/ocp_car_images\")\n",
    "record_file = data / \"records.json\"\n",
    "\n",
    "\n",
    "with record_file.open(\"r\") as f:\n",
    "    records: list[Record] = json.load(f)\n",
    "\n",
    "\n",
    "def get_image_id(url: str):\n",
    "    return re.match(r\"https://scdn.autoteiledirekt.de/groups/170x100/(\\d+).png\", url).group(1)"
   ]
  },
  {
   "cell_type": "code",
   "execution_count": null,
   "metadata": {
    "tags": []
   },
   "outputs": [],
   "source": [
    "\n",
    "import utils\n",
    "from concurrent_download import download_concurrent\n",
    "\n",
    "image_path = utils.mkpath(data / \"images\")\n",
    "\n",
    "\n",
    "def get_img_path(url: str):\n",
    "    name = get_image_id(url)\n",
    "    return image_path / f\"{name}.png\"\n",
    "\n",
    "\n",
    "image_set = {r[\"image\"] for r in records}\n",
    "await download_concurrent(image_set, 20, get_img_path)"
   ]
  },
  {
   "cell_type": "code",
   "execution_count": null,
   "metadata": {},
   "outputs": [],
   "source": [
    "from db import Session, Image, Car\n",
    "from sqlalchemy import column, insert, select, table\n",
    "from rich.progress import track\n",
    "\n",
    "path_template = \"images/cars/{}.png\"\n",
    "with Session() as session:\n",
    "    for record in track(records):\n",
    "        path = path_template.format(get_image_id(record[\"image\"]))\n",
    "        permalink = record[\"permalink\"]\n",
    "        cars = session.scalars(select(Car).where(Car.permalink.contains(permalink))).all()\n",
    "        images = [dict(path=path, imageable_id=car.id, imageable_type=r\"\\App\\Models\\Car\") for car in cars]\n",
    "        session.execute(insert(Image).values(images).prefix_with(\"IGNORE\"))\n",
    "    session.commit()"
   ]
  }
 ],
 "metadata": {
  "kernelspec": {
   "display_name": "scraping-Cbcbn8WD",
   "language": "python",
   "name": "python3"
  },
  "language_info": {
   "codemirror_mode": {
    "name": "ipython",
    "version": 3
   },
   "file_extension": ".py",
   "mimetype": "text/x-python",
   "name": "python",
   "nbconvert_exporter": "python",
   "pygments_lexer": "ipython3",
   "version": "3.10.11"
  }
 },
 "nbformat": 4,
 "nbformat_minor": 2
}
