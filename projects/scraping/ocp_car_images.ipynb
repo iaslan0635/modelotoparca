{
 "cells": [
  {
   "cell_type": "code",
   "execution_count": 1,
   "metadata": {},
   "outputs": [],
   "source": [
    "import json\n",
    "import re\n",
    "from typing import TypedDict, cast\n",
    "\n",
    "import utils\n",
    "from concurrent_download import download_concurrent\n",
    "from rich.progress import track\n",
    "\n",
    "\n",
    "class Record(TypedDict):\n",
    "    permalink: str\n",
    "    image: str"
   ]
  },
  {
   "cell_type": "code",
   "execution_count": 2,
   "metadata": {},
   "outputs": [],
   "source": [
    "data = utils.mkpath(\"data/ocp_car_images\")\n",
    "record_file = data / \"records.json\""
   ]
  },
  {
   "cell_type": "markdown",
   "metadata": {},
   "source": [
    "----"
   ]
  },
  {
   "cell_type": "code",
   "execution_count": 3,
   "metadata": {},
   "outputs": [],
   "source": [
    "with record_file.open(\"r\") as f:\n",
    "    records = json.load(f)\n",
    "\n",
    "image_path = utils.mkpath(data / \"images\")\n",
    "\n",
    "def get_img_path(url: str):\n",
    "    name = re.match(r\"https://scdn.autoteiledirekt.de/groups/170x100/(\\d+).png\", url).group(1)\n",
    "    return image_path / f\"{name}.png\""
   ]
  },
  {
   "cell_type": "code",
   "execution_count": 4,
   "metadata": {},
   "outputs": [
    {
     "data": {
      "application/vnd.jupyter.widget-view+json": {
       "model_id": "23e6992f6d424bddac5b467209796984",
       "version_major": 2,
       "version_minor": 0
      },
      "text/plain": [
       "Output()"
      ]
     },
     "metadata": {},
     "output_type": "display_data"
    },
    {
     "data": {
      "text/html": [
       "<pre style=\"white-space:pre;overflow-x:auto;line-height:normal;font-family:Menlo,'DejaVu Sans Mono',consolas,'Courier New',monospace\"></pre>\n"
      ],
      "text/plain": []
     },
     "metadata": {},
     "output_type": "display_data"
    },
    {
     "data": {
      "text/html": [
       "<pre style=\"white-space:pre;overflow-x:auto;line-height:normal;font-family:Menlo,'DejaVu Sans Mono',consolas,'Courier New',monospace\">\n",
       "</pre>\n"
      ],
      "text/plain": [
       "\n"
      ]
     },
     "metadata": {},
     "output_type": "display_data"
    }
   ],
   "source": [
    "image_set = {r[\"image\"] for r in records}\n",
    "await download_concurrent(image_set, 20, get_img_path)"
   ]
  },
  {
   "cell_type": "markdown",
   "metadata": {},
   "source": [
    "----"
   ]
  },
  {
   "cell_type": "code",
   "execution_count": null,
   "metadata": {},
   "outputs": [],
   "source": [
    "def get_maker_urls():\n",
    "    soup = utils.soup(\"https://www.onlinecarparts.co.uk/car-brands.html\")\n",
    "    return [utils.get_link(el) for el in soup.select(\".top-auto .top-auto-item\")]\n",
    "\n",
    "\n",
    "def parse_car_permalink(permalink: str) -> str:\n",
    "    r = re.match(\n",
    "        r\"https://www.onlinecarparts.co.uk/car-brands/spare-parts-(.+?)/(.+).html\",\n",
    "        permalink,\n",
    "    )\n",
    "    maker, model = r.groups()\n",
    "    return f\"{maker}/{maker}-{model}\"\n",
    "\n",
    "\n",
    "def get_cars(maker_url: str):\n",
    "    soup = utils.soup(maker_url)\n",
    "    return [\n",
    "        (\n",
    "            utils.get_link(el),\n",
    "            cast(str, el.select_one(\"img\")[\"src\"]),\n",
    "        )\n",
    "        for el in soup.select(\".top-auto .top-auto-item\")\n",
    "    ]\n",
    "\n",
    "\n",
    "def get_car_permalinks(car_url: str):\n",
    "    soup = utils.soup(car_url)\n",
    "    links = [utils.get_link(el) for el in soup.select(\".vehicle-list .vehicle-list__link\")]\n",
    "    return [parse_car_permalink(link) for link in links]"
   ]
  },
  {
   "cell_type": "code",
   "execution_count": null,
   "metadata": {},
   "outputs": [],
   "source": [
    "maker_urls = get_maker_urls()\n",
    "cars = utils.flatten([get_cars(maker_url) for maker_url in track(maker_urls, \"Getting cars\")])"
   ]
  },
  {
   "cell_type": "code",
   "execution_count": null,
   "metadata": {},
   "outputs": [],
   "source": [
    "records = utils.flatten(\n",
    "    [\n",
    "        [Record(permalink=permalink, image=img) for permalink in get_car_permalinks(url)]\n",
    "        for url, img in track(cars, \"Getting permalinks\")\n",
    "    ]\n",
    ")"
   ]
  },
  {
   "cell_type": "code",
   "execution_count": null,
   "metadata": {},
   "outputs": [],
   "source": [
    "with record_file.open(\"w\") as f:\n",
    "    json.dump(records, f, indent=4)"
   ]
  }
 ],
 "metadata": {
  "kernelspec": {
   "display_name": "scraping-Cbcbn8WD",
   "language": "python",
   "name": "python3"
  },
  "language_info": {
   "codemirror_mode": {
    "name": "ipython",
    "version": 3
   },
   "file_extension": ".py",
   "mimetype": "text/x-python",
   "name": "python",
   "nbconvert_exporter": "python",
   "pygments_lexer": "ipython3",
   "version": "3.10.11"
  }
 },
 "nbformat": 4,
 "nbformat_minor": 2
}
