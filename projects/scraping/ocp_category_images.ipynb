{
 "cells": [
  {
   "cell_type": "code",
   "execution_count": 1,
   "metadata": {},
   "outputs": [],
   "source": [
    "from typing import cast\n",
    "\n",
    "import bs4\n",
    "import ocp_client\n",
    "import utils\n",
    "from rich.progress import track"
   ]
  },
  {
   "cell_type": "code",
   "execution_count": 2,
   "metadata": {},
   "outputs": [],
   "source": [
    "html = ocp_client.get('https://www.onlinecarparts.co.uk/spare-parts.html')\n",
    "soup = bs4.BeautifulSoup(html, 'html.parser')"
   ]
  },
  {
   "cell_type": "code",
   "execution_count": 3,
   "metadata": {},
   "outputs": [],
   "source": [
    "cat_els = soup.select(\".catalog-grid-item__link\")\n",
    "cat_image_urls = [\n",
    "    (\n",
    "        el.select_one(\".catalog-grid-item__name span\").text,\n",
    "        cast(str, el.select_one(\".catalog-grid-item__image img\")[\"src\"]).strip(),\n",
    "    )\n",
    "    for el in cat_els\n",
    "]"
   ]
  },
  {
   "cell_type": "code",
   "execution_count": 4,
   "metadata": {},
   "outputs": [],
   "source": [
    "subcat_els = soup.select(\".catalog-subcats__item\")\n",
    "subcat_image_urls = [\n",
    "    (\n",
    "        el.select_one(\".catalog-subcats__name\").text,\n",
    "        cast(str, el.select_one(\"img\")[\"src\"]).strip(),\n",
    "    )\n",
    "    for el in subcat_els\n",
    "]"
   ]
  },
  {
   "cell_type": "code",
   "execution_count": 5,
   "metadata": {},
   "outputs": [],
   "source": [
    "image_urls = cat_image_urls + subcat_image_urls"
   ]
  },
  {
   "cell_type": "code",
   "execution_count": 7,
   "metadata": {},
   "outputs": [
    {
     "data": {
      "text/plain": [
       "10768"
      ]
     },
     "execution_count": 7,
     "metadata": {},
     "output_type": "execute_result"
    }
   ],
   "source": [
    "(utils.mkpath(\"data\") / \"ocp_cat_names.txt\").write_text(\"\\n\".join([name for name, _ in image_urls]))"
   ]
  },
  {
   "cell_type": "code",
   "execution_count": 6,
   "metadata": {},
   "outputs": [
    {
     "data": {
      "application/vnd.jupyter.widget-view+json": {
       "model_id": "11cac255e6494e08a5e2c2894be40b54",
       "version_major": 2,
       "version_minor": 0
      },
      "text/plain": [
       "Output()"
      ]
     },
     "metadata": {},
     "output_type": "display_data"
    },
    {
     "data": {
      "text/html": [
       "<pre style=\"white-space:pre;overflow-x:auto;line-height:normal;font-family:Menlo,'DejaVu Sans Mono',consolas,'Courier New',monospace\"></pre>\n"
      ],
      "text/plain": []
     },
     "metadata": {},
     "output_type": "display_data"
    },
    {
     "data": {
      "text/html": [
       "<pre style=\"white-space:pre;overflow-x:auto;line-height:normal;font-family:Menlo,'DejaVu Sans Mono',consolas,'Courier New',monospace\">\n",
       "</pre>\n"
      ],
      "text/plain": [
       "\n"
      ]
     },
     "metadata": {},
     "output_type": "display_data"
    }
   ],
   "source": [
    "path = utils.mkpath(\"data/ocp_cat_images\")\n",
    "\n",
    "for name, url in track(image_urls):\n",
    "    name = utils.normalize_fname(name)\n",
    "    (path/f\"{name}.png\").write_bytes(ocp_client.get_raw(url))\n"
   ]
  }
 ],
 "metadata": {
  "kernelspec": {
   "display_name": "scraping-Cbcbn8WD",
   "language": "python",
   "name": "python3"
  },
  "language_info": {
   "codemirror_mode": {
    "name": "ipython",
    "version": 3
   },
   "file_extension": ".py",
   "mimetype": "text/x-python",
   "name": "python",
   "nbconvert_exporter": "python",
   "pygments_lexer": "ipython3",
   "version": "3.10.11"
  }
 },
 "nbformat": 4,
 "nbformat_minor": 2
}
