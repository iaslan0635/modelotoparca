{
 "cells": [
  {
   "cell_type": "code",
   "execution_count": null,
   "metadata": {},
   "outputs": [],
   "source": [
    "from typing import cast\n",
    "\n",
    "import bs4\n",
    "import ocp_client\n",
    "import utils\n",
    "from rich.progress import track"
   ]
  },
  {
   "cell_type": "code",
   "execution_count": null,
   "metadata": {},
   "outputs": [],
   "source": [
    "soup = utils.soup('https://www.onlinecarparts.co.uk/spare-parts.html')"
   ]
  },
  {
   "cell_type": "code",
   "execution_count": null,
   "metadata": {},
   "outputs": [],
   "source": [
    "cat_els = soup.select(\".catalog-grid-item__link\")\n",
    "cat_image_urls = [\n",
    "    (\n",
    "        el.select_one(\".catalog-grid-item__name span\").text,\n",
    "        cast(str, el.select_one(\".catalog-grid-item__image img\")[\"src\"]).strip(),\n",
    "    )\n",
    "    for el in cat_els\n",
    "]"
   ]
  },
  {
   "cell_type": "code",
   "execution_count": null,
   "metadata": {},
   "outputs": [],
   "source": [
    "subcat_els = soup.select(\".catalog-subcats__item\")\n",
    "subcat_image_urls = [\n",
    "    (\n",
    "        el.select_one(\".catalog-subcats__name\").text,\n",
    "        cast(str, el.select_one(\"img\")[\"src\"]).strip(),\n",
    "    )\n",
    "    for el in subcat_els\n",
    "]"
   ]
  },
  {
   "cell_type": "code",
   "execution_count": null,
   "metadata": {},
   "outputs": [],
   "source": [
    "image_urls = cat_image_urls + subcat_image_urls"
   ]
  },
  {
   "cell_type": "code",
   "execution_count": null,
   "metadata": {},
   "outputs": [],
   "source": [
    "(utils.mkpath(\"data\") / \"ocp_cat_names.txt\").write_text(\"\\n\".join([name for name, _ in image_urls]))"
   ]
  },
  {
   "cell_type": "code",
   "execution_count": null,
   "metadata": {},
   "outputs": [],
   "source": [
    "path = utils.mkpath(\"data/ocp_cat_images\")\n",
    "\n",
    "for name, url in track(image_urls):\n",
    "    name = utils.normalize_fname(name)\n",
    "    (path/f\"{name}.png\").write_bytes(ocp_client.get_raw(url))\n"
   ]
  }
 ],
 "metadata": {
  "kernelspec": {
   "display_name": "scraping-Cbcbn8WD",
   "language": "python",
   "name": "python3"
  },
  "language_info": {
   "codemirror_mode": {
    "name": "ipython",
    "version": 3
   },
   "file_extension": ".py",
   "mimetype": "text/x-python",
   "name": "python",
   "nbconvert_exporter": "python",
   "pygments_lexer": "ipython3",
   "version": "3.10.11"
  }
 },
 "nbformat": 4,
 "nbformat_minor": 2
}
