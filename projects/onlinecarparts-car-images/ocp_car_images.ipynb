{
 "cells": [
  {
   "cell_type": "code",
   "execution_count": 1,
   "metadata": {},
   "outputs": [
    {
     "data": {
      "application/vnd.jupyter.widget-view+json": {
       "model_id": "f1ff6b36bf074b589dab30f812a9f068",
       "version_major": 2,
       "version_minor": 0
      },
      "text/plain": [
       "Output()"
      ]
     },
     "metadata": {},
     "output_type": "display_data"
    },
    {
     "data": {
      "text/html": [
       "<pre style=\"white-space:pre;overflow-x:auto;line-height:normal;font-family:Menlo,'DejaVu Sans Mono',consolas,'Courier New',monospace\"></pre>\n"
      ],
      "text/plain": []
     },
     "metadata": {},
     "output_type": "display_data"
    },
    {
     "data": {
      "text/html": [
       "<pre style=\"white-space:pre;overflow-x:auto;line-height:normal;font-family:Menlo,'DejaVu Sans Mono',consolas,'Courier New',monospace\">\n",
       "</pre>\n"
      ],
      "text/plain": [
       "\n"
      ]
     },
     "metadata": {},
     "output_type": "display_data"
    },
    {
     "data": {
      "application/vnd.jupyter.widget-view+json": {
       "model_id": "fbf25b47e7fb4428b11287f14f6583e6",
       "version_major": 2,
       "version_minor": 0
      },
      "text/plain": [
       "Output()"
      ]
     },
     "metadata": {},
     "output_type": "display_data"
    },
    {
     "data": {
      "text/html": [
       "<pre style=\"white-space:pre;overflow-x:auto;line-height:normal;font-family:Menlo,'DejaVu Sans Mono',consolas,'Courier New',monospace\"></pre>\n"
      ],
      "text/plain": []
     },
     "metadata": {},
     "output_type": "display_data"
    },
    {
     "data": {
      "text/html": [
       "<pre style=\"white-space:pre;overflow-x:auto;line-height:normal;font-family:Menlo,'DejaVu Sans Mono',consolas,'Courier New',monospace\">\n",
       "</pre>\n"
      ],
      "text/plain": [
       "\n"
      ]
     },
     "metadata": {},
     "output_type": "display_data"
    },
    {
     "ename": "OcpClientProcessError",
     "evalue": "Command '['php', '../../artisan', 'ocp:curl', 'https://www.onlinecarparts.co.uk/car-brands/spare-parts-toyota-fj.html']' returned non-zero exit status 1.\n\nSTDERR:\nb''\n\nSTDOUT:\nb'\\r\\n   App\\\\Services\\\\Bots\\\\OcpClientException \\r\\n\\r\\n  Http request failed with status code 500.\\nUrl: https://www.onlinecarparts.co.uk/car-brands/spare-parts-toyota-fj.html\\nResponse: <!DOCTYPE html>\\n<html lang=\"en\">\\n<head>\\n    <meta name=\"viewport\"\\n          content=\"width=device-width, initial-scale=1, maximum-scale=1.0, user-scalable=no, shrink-to-fit=no\">\\n    <meta charset=\"utf-8\">\\n    <meta http-equiv=\"x-ua-compatible\" content=\"ie=edge\">\\n    <title> 500 - www.onlinecarparts.co.uk</title>\\n    <style>\\n        * {\\n            margin: 0px auto;\\n            padding: 0px;\\n            text-align: center;\\n        }\\n\\n        body {\\n            background-color: #f4f4f8;\\n        }\\n\\n        .cont_principal {\\n            position: absolute;\\n            width: 100%;\\n            height: 100%;\\n            overflow: hidden;\\n        }\\n\\n        .cont_error {\\n            position: absolute;\\n            width: 100%;\\n            height: 300px;\\n            top: 50%;\\n            margin-top: -150px;\\n        }\\n\\n        .cont_error > h1 {\\n            font-family: \\'Lato\\', sans-serif;\\n            font-weight: 400;\\n            font-size: 50px;\\n            color: #20548e;\\n            position: relative;\\n            left: -100%;\\n            transition: all 0.5s;\\n        }\\n\\n\\n        .cont_error > p {\\n            font-family: \\'Lato\\', sans-serif;\\n            font-weight: 300;\\n            font-size: 24px;\\n            letter-spacing: 5px;\\n            color: #344357;\\n            position: relative;\\n            left: 100%;\\n            transition: all 0.5s;\\n            transition-delay: 0.5s;\\n            -webkit-transition: all 0.5s;\\n            -webkit-transition-delay: 0.5s;\\n        }\\n\\n        @media (max-width: 576px) {\\n            .cont_aura_1 {\\n                right: -350px;\\n            }\\n        }\\n\\n        .cont_aura_1 {\\n            position: absolute;\\n            width: 300px;\\n            height: 120%;\\n            top: 25px;\\n            right: -340px;\\n            background-color: #344357;\\n            box-shadow: 0px 0px 60px 20px rgba(52, 67, 87, 0.5);\\n            -webkit-transition: all 0.5s;\\n            transition: all 0.5s;\\n        }\\n\\n        .cont_aura_2 {\\n            position: absolute;\\n            width: 100%;\\n            height: 300px;\\n            right: -10%;\\n            bottom: -301px;\\n            background-color: #344357;\\n            box-shadow: 0px 0px 60px 10px rgba(52, 67, 87, 0.5), 0px 0px 20px 0px rgba(0, 0, 0, 0.1);\\n            z-index: 5;\\n            transition: all 0.5s;\\n            -webkit-transition: all 0.5s;\\n        }\\n\\n\\n\\n        .cont_error_active > .cont_error > h1 {\\n            left: 0%;\\n        }\\n\\n        .cont_error_active > .cont_error > p {\\n            left: 0%;\\n        }\\n\\n        .cont_error_active > .cont_aura_2 {\\n            animation-name: animation_error_2;\\n            animation-duration: 4s;\\n            animation-timing-function: linear;\\n            animation-iteration-count: infinite;\\n            animation-direction: alternate;\\n            transform: rotate(-20deg);\\n        }\\n\\n        .cont_error_active > .cont_aura_1 {\\n            transform: rotate(20deg);\\n            right: -170px;\\n            animation-name: animation_error_1;\\n            animation-duration: 4s;\\n            animation-timing-function: linear;\\n            animation-iteration-count: infinite;\\n            animation-direction: alternate;\\n        }\\n\\n        @-webkit-keyframes animation_error_1 {\\n            from {\\n                -webkit-transform: rotate(20deg);\\n                transform: rotate(20deg);\\n            }\\n            to {\\n                -webkit-transform: rotate(25deg);\\n                transform: rotate(25deg);\\n            }\\n        }\\n\\n        @-o-keyframes animation_error_1 {\\n            from {\\n                -webkit-transform: rotate(20deg);\\n                transform: rotate(20deg);\\n            }\\n            to {\\n                -webkit-transform: rotate(25deg);\\n                transform: rotate(25deg);\\n            }\\n\\n        }\\n\\n        @-moz-keyframes animation_error_1 {\\n            from {\\n                -webkit-transform: rotate(20deg);\\n                transform: rotate(20deg);\\n            }\\n            to {\\n                -webkit-transform: rotate(25deg);\\n                transform: rotate(25deg);\\n            }\\n\\n        }\\n\\n        @keyframes  animation_error_1 {\\n            from {\\n                -webkit-transform: rotate(20deg);\\n                transform: rotate(20deg);\\n            }\\n            to {\\n                -webkit-transform: rotate(25deg);\\n                transform: rotate(25deg);\\n            }\\n        }\\n\\n\\n        @-webkit-keyframes animation_error_2 {\\n            from {\\n                -webkit-transform: rotate(-15deg);\\n                transform: rotate(-15deg);\\n            }\\n            to {\\n                -webkit-transform: rotate(-20deg);\\n                transform: rotate(-20deg);\\n            }\\n        }\\n\\n        @-o-keyframes animation_error_2 {\\n            from {\\n                -webkit-transform: rotate(-15deg);\\n                transform: rotate(-15deg);\\n            }\\n            to {\\n                -webkit-transform: rotate(-20deg);\\n                transform: rotate(-20deg);\\n            }\\n        }\\n\\n        }\\n        @-moz-keyframes animation_error_2 {\\n            from {\\n                -webkit-transform: rotate(-15deg);\\n                transform: rotate(-15deg);\\n            }\\n            to {\\n                -webkit-transform: rotate(-20deg);\\n                transform: rotate(-20deg);\\n            }\\n        }\\n\\n        @keyframes  animation_error_2 {\\n            from {\\n                -webkit-transform: rotate(-15deg);\\n                transform: rotate(-15deg);\\n            }\\n            to {\\n                -webkit-transform: rotate(-20deg);\\n                transform: rotate(-20deg);\\n            }\\n        }\\n\\n\\n    </style>\\n</head>\\n<body>\\n<div class=\"cont_principal\">\\n    <div class=\"cont_error\">\\n        <h1>Updating our website...</h1>\\n        <p>In a few moments, it will be even more awesome!</p>\\n    </div>\\n</div>\\n<script>\\n    window.onload = function () {\\n        document.querySelector(\\'.cont_principal\\').className = \"cont_principal cont_error_active\";\\n    }\\n</script>\\n<script>(function(){function c(){var b=a.contentDocument||a.contentWindow.document;if(b){var d=b.createElement(\\'script\\');d.innerHTML=\"window.__CF$cv$params={r:\\'891918c31b9d696b\\',t:\\'MTcxODAxOTczMy4wMDAwMDA=\\'};var a=document.createElement(\\'script\\');a.nonce=\\'\\';a.src=\\'/cdn-cgi/challenge-platform/scripts/jsd/main.js\\';document.getElementsByTagName(\\'head\\')[0].appendChild(a);\";b.getElementsByTagName(\\'head\\')[0].appendChild(d)}}if(document.body){var a=document.createElement(\\'iframe\\');a.height=1;a.width=1;a.style.position=\\'absolute\\';a.style.top=0;a.style.left=0;a.style.border=\\'none\\';a.style.visibility=\\'hidden\\';document.body.appendChild(a);if(\\'loading\\'!==document.readyState)c();else if(window.addEventListener)document.addEventListener(\\'DOMContentLoaded\\',c);else{var e=document.onreadystatechange||function(){};document.onreadystatechange=function(b){e(b);\\'loading\\'!==document.readyState&&(document.onreadystatechange=e,c())}}}})();</script></body>\\n</html>\\r\\n\\r\\n  at C:\\\\Users\\\\Semih\\\\PhpstormProjects\\\\modelotoparca\\\\app\\\\Services\\\\Bots\\\\OcpClient.php:31\\r\\n     27\\xe2\\x96\\x95             throw new \\\\Exception(\\'Response blocked by cloudflare.\\');\\r\\n     28\\xe2\\x96\\x95         }\\r\\n     29\\xe2\\x96\\x95 \\r\\n     30\\xe2\\x96\\x95         if (! ($httpStatusCode >= 200 && $httpStatusCode < 300)) {\\r\\n  \\xe2\\x9e\\x9c  31\\xe2\\x96\\x95             throw new OcpClientException($httpStatusCode, $url, $response);\\r\\n     32\\xe2\\x96\\x95         }\\r\\n     33\\xe2\\x96\\x95 \\r\\n     34\\xe2\\x96\\x95         return $response;\\r\\n     35\\xe2\\x96\\x95     }\\r\\n\\r\\n  1   C:\\\\Users\\\\Semih\\\\PhpstormProjects\\\\modelotoparca\\\\app\\\\Console\\\\Commands\\\\OcpCurlCommand.php:17\\r\\n      App\\\\Services\\\\Bots\\\\OcpClient::request(\"https://www.onlinecarparts.co.uk/car-brands/spare-parts-toyota-fj.html\")\\r\\n\\r\\n  2   C:\\\\Users\\\\Semih\\\\PhpstormProjects\\\\modelotoparca\\\\vendor\\\\laravel\\\\framework\\\\src\\\\Illuminate\\\\Container\\\\BoundMethod.php:36\\r\\n      App\\\\Console\\\\Commands\\\\OcpCurlCommand::handle()\\r\\n\\r\\n'",
     "output_type": "error",
     "traceback": [
      "\u001b[1;31m---------------------------------------------------------------------------\u001b[0m",
      "\u001b[1;31mCalledProcessError\u001b[0m                        Traceback (most recent call last)",
      "File \u001b[1;32mc:\\Users\\Semih\\PhpstormProjects\\modelotoparca\\projects\\onlinecarparts-car-images\\ocp_client.py:13\u001b[0m, in \u001b[0;36m_check_returncode\u001b[1;34m(result)\u001b[0m\n\u001b[0;32m     12\u001b[0m \u001b[38;5;28;01mtry\u001b[39;00m:\n\u001b[1;32m---> 13\u001b[0m     \u001b[43mresult\u001b[49m\u001b[38;5;241;43m.\u001b[39;49m\u001b[43mcheck_returncode\u001b[49m\u001b[43m(\u001b[49m\u001b[43m)\u001b[49m\n\u001b[0;32m     14\u001b[0m \u001b[38;5;28;01mexcept\u001b[39;00m subprocess\u001b[38;5;241m.\u001b[39mCalledProcessError \u001b[38;5;28;01mas\u001b[39;00m e:\n",
      "File \u001b[1;32m~\\AppData\\Local\\Programs\\Python\\Python312\\Lib\\subprocess.py:502\u001b[0m, in \u001b[0;36mCompletedProcess.check_returncode\u001b[1;34m(self)\u001b[0m\n\u001b[0;32m    501\u001b[0m \u001b[38;5;28;01mif\u001b[39;00m \u001b[38;5;28mself\u001b[39m\u001b[38;5;241m.\u001b[39mreturncode:\n\u001b[1;32m--> 502\u001b[0m     \u001b[38;5;28;01mraise\u001b[39;00m CalledProcessError(\u001b[38;5;28mself\u001b[39m\u001b[38;5;241m.\u001b[39mreturncode, \u001b[38;5;28mself\u001b[39m\u001b[38;5;241m.\u001b[39margs, \u001b[38;5;28mself\u001b[39m\u001b[38;5;241m.\u001b[39mstdout,\n\u001b[0;32m    503\u001b[0m                              \u001b[38;5;28mself\u001b[39m\u001b[38;5;241m.\u001b[39mstderr)\n",
      "\u001b[1;31mCalledProcessError\u001b[0m: Command '['php', '../../artisan', 'ocp:curl', 'https://www.onlinecarparts.co.uk/car-brands/spare-parts-toyota-fj.html']' returned non-zero exit status 1.",
      "\nThe above exception was the direct cause of the following exception:\n",
      "\u001b[1;31mOcpClientProcessError\u001b[0m                     Traceback (most recent call last)",
      "Cell \u001b[1;32mIn[1], line 51\u001b[0m\n\u001b[0;32m     45\u001b[0m     permalink: \u001b[38;5;28mstr\u001b[39m\n\u001b[0;32m     46\u001b[0m     image: \u001b[38;5;28mstr\u001b[39m\n\u001b[0;32m     49\u001b[0m records \u001b[38;5;241m=\u001b[39m utils\u001b[38;5;241m.\u001b[39mflatten(\n\u001b[0;32m     50\u001b[0m     [\n\u001b[1;32m---> 51\u001b[0m         [Record(permalink\u001b[38;5;241m=\u001b[39mpermalink, image\u001b[38;5;241m=\u001b[39mimg) \u001b[38;5;28;01mfor\u001b[39;00m permalink \u001b[38;5;129;01min\u001b[39;00m \u001b[43mget_car_permalinks\u001b[49m\u001b[43m(\u001b[49m\u001b[43murl\u001b[49m\u001b[43m)\u001b[49m]\n\u001b[0;32m     52\u001b[0m         \u001b[38;5;28;01mfor\u001b[39;00m url, img \u001b[38;5;129;01min\u001b[39;00m track(cars, \u001b[38;5;124m\"\u001b[39m\u001b[38;5;124mGetting permalinks\u001b[39m\u001b[38;5;124m\"\u001b[39m)\n\u001b[0;32m     53\u001b[0m     ]\n\u001b[0;32m     54\u001b[0m )\n\u001b[0;32m     56\u001b[0m data \u001b[38;5;241m=\u001b[39m utils\u001b[38;5;241m.\u001b[39mmkpath(\u001b[38;5;124m\"\u001b[39m\u001b[38;5;124mdata/ocp_car_images\u001b[39m\u001b[38;5;124m\"\u001b[39m)\n\u001b[0;32m     57\u001b[0m record_file \u001b[38;5;241m=\u001b[39m data \u001b[38;5;241m/\u001b[39m \u001b[38;5;124m\"\u001b[39m\u001b[38;5;124mrecords.json\u001b[39m\u001b[38;5;124m\"\u001b[39m\n",
      "Cell \u001b[1;32mIn[1], line 35\u001b[0m, in \u001b[0;36mget_car_permalinks\u001b[1;34m(car_url)\u001b[0m\n\u001b[0;32m     34\u001b[0m \u001b[38;5;28;01mdef\u001b[39;00m \u001b[38;5;21mget_car_permalinks\u001b[39m(car_url: \u001b[38;5;28mstr\u001b[39m):\n\u001b[1;32m---> 35\u001b[0m     soup \u001b[38;5;241m=\u001b[39m \u001b[43mutils\u001b[49m\u001b[38;5;241;43m.\u001b[39;49m\u001b[43msoup\u001b[49m\u001b[43m(\u001b[49m\u001b[43mcar_url\u001b[49m\u001b[43m)\u001b[49m\n\u001b[0;32m     36\u001b[0m     links \u001b[38;5;241m=\u001b[39m [utils\u001b[38;5;241m.\u001b[39mget_link(el) \u001b[38;5;28;01mfor\u001b[39;00m el \u001b[38;5;129;01min\u001b[39;00m soup\u001b[38;5;241m.\u001b[39mselect(\u001b[38;5;124m\"\u001b[39m\u001b[38;5;124m.vehicle-list .vehicle-list__link\u001b[39m\u001b[38;5;124m\"\u001b[39m)]\n\u001b[0;32m     37\u001b[0m     \u001b[38;5;28;01mreturn\u001b[39;00m [parse_car_permalink(link) \u001b[38;5;28;01mfor\u001b[39;00m link \u001b[38;5;129;01min\u001b[39;00m links]\n",
      "File \u001b[1;32mc:\\Users\\Semih\\PhpstormProjects\\modelotoparca\\projects\\onlinecarparts-car-images\\utils.py:21\u001b[0m, in \u001b[0;36msoup\u001b[1;34m(url)\u001b[0m\n\u001b[0;32m     20\u001b[0m \u001b[38;5;28;01mdef\u001b[39;00m \u001b[38;5;21msoup\u001b[39m(url: \u001b[38;5;28mstr\u001b[39m):\n\u001b[1;32m---> 21\u001b[0m     html \u001b[38;5;241m=\u001b[39m \u001b[43mocp_client\u001b[49m\u001b[38;5;241;43m.\u001b[39;49m\u001b[43mget\u001b[49m\u001b[43m(\u001b[49m\u001b[43murl\u001b[49m\u001b[43m)\u001b[49m\n\u001b[0;32m     22\u001b[0m     \u001b[38;5;28;01mreturn\u001b[39;00m bs4\u001b[38;5;241m.\u001b[39mBeautifulSoup(html, \u001b[38;5;124m\"\u001b[39m\u001b[38;5;124mhtml.parser\u001b[39m\u001b[38;5;124m\"\u001b[39m)\n",
      "File \u001b[1;32mc:\\Users\\Semih\\PhpstormProjects\\modelotoparca\\projects\\onlinecarparts-car-images\\ocp_client.py:33\u001b[0m, in \u001b[0;36mget\u001b[1;34m(url)\u001b[0m\n\u001b[0;32m     32\u001b[0m \u001b[38;5;28;01mdef\u001b[39;00m \u001b[38;5;21mget\u001b[39m(url: \u001b[38;5;28mstr\u001b[39m):\n\u001b[1;32m---> 33\u001b[0m     \u001b[38;5;28;01mreturn\u001b[39;00m \u001b[43mget_raw\u001b[49m\u001b[43m(\u001b[49m\u001b[43murl\u001b[49m\u001b[43m)\u001b[49m\u001b[38;5;241m.\u001b[39mdecode(\u001b[38;5;124m\"\u001b[39m\u001b[38;5;124mutf-8\u001b[39m\u001b[38;5;124m\"\u001b[39m)\n",
      "File \u001b[1;32mc:\\Users\\Semih\\PhpstormProjects\\modelotoparca\\projects\\onlinecarparts-car-images\\ocp_client.py:28\u001b[0m, in \u001b[0;36mget_raw\u001b[1;34m(url)\u001b[0m\n\u001b[0;32m     22\u001b[0m \u001b[38;5;28;01mdef\u001b[39;00m \u001b[38;5;21mget_raw\u001b[39m(url: \u001b[38;5;28mstr\u001b[39m):\n\u001b[0;32m     23\u001b[0m     result \u001b[38;5;241m=\u001b[39m subprocess\u001b[38;5;241m.\u001b[39mrun(\n\u001b[0;32m     24\u001b[0m         _get_args(url),\n\u001b[0;32m     25\u001b[0m         capture_output\u001b[38;5;241m=\u001b[39m\u001b[38;5;28;01mTrue\u001b[39;00m,\n\u001b[0;32m     26\u001b[0m         text\u001b[38;5;241m=\u001b[39m\u001b[38;5;28;01mFalse\u001b[39;00m,\n\u001b[0;32m     27\u001b[0m     )\n\u001b[1;32m---> 28\u001b[0m     \u001b[43m_check_returncode\u001b[49m\u001b[43m(\u001b[49m\u001b[43mresult\u001b[49m\u001b[43m)\u001b[49m\n\u001b[0;32m     29\u001b[0m     \u001b[38;5;28;01mreturn\u001b[39;00m result\u001b[38;5;241m.\u001b[39mstdout\n",
      "File \u001b[1;32mc:\\Users\\Semih\\PhpstormProjects\\modelotoparca\\projects\\onlinecarparts-car-images\\ocp_client.py:15\u001b[0m, in \u001b[0;36m_check_returncode\u001b[1;34m(result)\u001b[0m\n\u001b[0;32m     13\u001b[0m     result\u001b[38;5;241m.\u001b[39mcheck_returncode()\n\u001b[0;32m     14\u001b[0m \u001b[38;5;28;01mexcept\u001b[39;00m subprocess\u001b[38;5;241m.\u001b[39mCalledProcessError \u001b[38;5;28;01mas\u001b[39;00m e:\n\u001b[1;32m---> 15\u001b[0m     \u001b[38;5;28;01mraise\u001b[39;00m OcpClientProcessError(e\u001b[38;5;241m.\u001b[39mreturncode, e\u001b[38;5;241m.\u001b[39mcmd, e\u001b[38;5;241m.\u001b[39moutput, e\u001b[38;5;241m.\u001b[39mstderr) \u001b[38;5;28;01mfrom\u001b[39;00m \u001b[38;5;21;01me\u001b[39;00m\n",
      "\u001b[1;31mOcpClientProcessError\u001b[0m: Command '['php', '../../artisan', 'ocp:curl', 'https://www.onlinecarparts.co.uk/car-brands/spare-parts-toyota-fj.html']' returned non-zero exit status 1.\n\nSTDERR:\nb''\n\nSTDOUT:\nb'\\r\\n   App\\\\Services\\\\Bots\\\\OcpClientException \\r\\n\\r\\n  Http request failed with status code 500.\\nUrl: https://www.onlinecarparts.co.uk/car-brands/spare-parts-toyota-fj.html\\nResponse: <!DOCTYPE html>\\n<html lang=\"en\">\\n<head>\\n    <meta name=\"viewport\"\\n          content=\"width=device-width, initial-scale=1, maximum-scale=1.0, user-scalable=no, shrink-to-fit=no\">\\n    <meta charset=\"utf-8\">\\n    <meta http-equiv=\"x-ua-compatible\" content=\"ie=edge\">\\n    <title> 500 - www.onlinecarparts.co.uk</title>\\n    <style>\\n        * {\\n            margin: 0px auto;\\n            padding: 0px;\\n            text-align: center;\\n        }\\n\\n        body {\\n            background-color: #f4f4f8;\\n        }\\n\\n        .cont_principal {\\n            position: absolute;\\n            width: 100%;\\n            height: 100%;\\n            overflow: hidden;\\n        }\\n\\n        .cont_error {\\n            position: absolute;\\n            width: 100%;\\n            height: 300px;\\n            top: 50%;\\n            margin-top: -150px;\\n        }\\n\\n        .cont_error > h1 {\\n            font-family: \\'Lato\\', sans-serif;\\n            font-weight: 400;\\n            font-size: 50px;\\n            color: #20548e;\\n            position: relative;\\n            left: -100%;\\n            transition: all 0.5s;\\n        }\\n\\n\\n        .cont_error > p {\\n            font-family: \\'Lato\\', sans-serif;\\n            font-weight: 300;\\n            font-size: 24px;\\n            letter-spacing: 5px;\\n            color: #344357;\\n            position: relative;\\n            left: 100%;\\n            transition: all 0.5s;\\n            transition-delay: 0.5s;\\n            -webkit-transition: all 0.5s;\\n            -webkit-transition-delay: 0.5s;\\n        }\\n\\n        @media (max-width: 576px) {\\n            .cont_aura_1 {\\n                right: -350px;\\n            }\\n        }\\n\\n        .cont_aura_1 {\\n            position: absolute;\\n            width: 300px;\\n            height: 120%;\\n            top: 25px;\\n            right: -340px;\\n            background-color: #344357;\\n            box-shadow: 0px 0px 60px 20px rgba(52, 67, 87, 0.5);\\n            -webkit-transition: all 0.5s;\\n            transition: all 0.5s;\\n        }\\n\\n        .cont_aura_2 {\\n            position: absolute;\\n            width: 100%;\\n            height: 300px;\\n            right: -10%;\\n            bottom: -301px;\\n            background-color: #344357;\\n            box-shadow: 0px 0px 60px 10px rgba(52, 67, 87, 0.5), 0px 0px 20px 0px rgba(0, 0, 0, 0.1);\\n            z-index: 5;\\n            transition: all 0.5s;\\n            -webkit-transition: all 0.5s;\\n        }\\n\\n\\n\\n        .cont_error_active > .cont_error > h1 {\\n            left: 0%;\\n        }\\n\\n        .cont_error_active > .cont_error > p {\\n            left: 0%;\\n        }\\n\\n        .cont_error_active > .cont_aura_2 {\\n            animation-name: animation_error_2;\\n            animation-duration: 4s;\\n            animation-timing-function: linear;\\n            animation-iteration-count: infinite;\\n            animation-direction: alternate;\\n            transform: rotate(-20deg);\\n        }\\n\\n        .cont_error_active > .cont_aura_1 {\\n            transform: rotate(20deg);\\n            right: -170px;\\n            animation-name: animation_error_1;\\n            animation-duration: 4s;\\n            animation-timing-function: linear;\\n            animation-iteration-count: infinite;\\n            animation-direction: alternate;\\n        }\\n\\n        @-webkit-keyframes animation_error_1 {\\n            from {\\n                -webkit-transform: rotate(20deg);\\n                transform: rotate(20deg);\\n            }\\n            to {\\n                -webkit-transform: rotate(25deg);\\n                transform: rotate(25deg);\\n            }\\n        }\\n\\n        @-o-keyframes animation_error_1 {\\n            from {\\n                -webkit-transform: rotate(20deg);\\n                transform: rotate(20deg);\\n            }\\n            to {\\n                -webkit-transform: rotate(25deg);\\n                transform: rotate(25deg);\\n            }\\n\\n        }\\n\\n        @-moz-keyframes animation_error_1 {\\n            from {\\n                -webkit-transform: rotate(20deg);\\n                transform: rotate(20deg);\\n            }\\n            to {\\n                -webkit-transform: rotate(25deg);\\n                transform: rotate(25deg);\\n            }\\n\\n        }\\n\\n        @keyframes  animation_error_1 {\\n            from {\\n                -webkit-transform: rotate(20deg);\\n                transform: rotate(20deg);\\n            }\\n            to {\\n                -webkit-transform: rotate(25deg);\\n                transform: rotate(25deg);\\n            }\\n        }\\n\\n\\n        @-webkit-keyframes animation_error_2 {\\n            from {\\n                -webkit-transform: rotate(-15deg);\\n                transform: rotate(-15deg);\\n            }\\n            to {\\n                -webkit-transform: rotate(-20deg);\\n                transform: rotate(-20deg);\\n            }\\n        }\\n\\n        @-o-keyframes animation_error_2 {\\n            from {\\n                -webkit-transform: rotate(-15deg);\\n                transform: rotate(-15deg);\\n            }\\n            to {\\n                -webkit-transform: rotate(-20deg);\\n                transform: rotate(-20deg);\\n            }\\n        }\\n\\n        }\\n        @-moz-keyframes animation_error_2 {\\n            from {\\n                -webkit-transform: rotate(-15deg);\\n                transform: rotate(-15deg);\\n            }\\n            to {\\n                -webkit-transform: rotate(-20deg);\\n                transform: rotate(-20deg);\\n            }\\n        }\\n\\n        @keyframes  animation_error_2 {\\n            from {\\n                -webkit-transform: rotate(-15deg);\\n                transform: rotate(-15deg);\\n            }\\n            to {\\n                -webkit-transform: rotate(-20deg);\\n                transform: rotate(-20deg);\\n            }\\n        }\\n\\n\\n    </style>\\n</head>\\n<body>\\n<div class=\"cont_principal\">\\n    <div class=\"cont_error\">\\n        <h1>Updating our website...</h1>\\n        <p>In a few moments, it will be even more awesome!</p>\\n    </div>\\n</div>\\n<script>\\n    window.onload = function () {\\n        document.querySelector(\\'.cont_principal\\').className = \"cont_principal cont_error_active\";\\n    }\\n</script>\\n<script>(function(){function c(){var b=a.contentDocument||a.contentWindow.document;if(b){var d=b.createElement(\\'script\\');d.innerHTML=\"window.__CF$cv$params={r:\\'891918c31b9d696b\\',t:\\'MTcxODAxOTczMy4wMDAwMDA=\\'};var a=document.createElement(\\'script\\');a.nonce=\\'\\';a.src=\\'/cdn-cgi/challenge-platform/scripts/jsd/main.js\\';document.getElementsByTagName(\\'head\\')[0].appendChild(a);\";b.getElementsByTagName(\\'head\\')[0].appendChild(d)}}if(document.body){var a=document.createElement(\\'iframe\\');a.height=1;a.width=1;a.style.position=\\'absolute\\';a.style.top=0;a.style.left=0;a.style.border=\\'none\\';a.style.visibility=\\'hidden\\';document.body.appendChild(a);if(\\'loading\\'!==document.readyState)c();else if(window.addEventListener)document.addEventListener(\\'DOMContentLoaded\\',c);else{var e=document.onreadystatechange||function(){};document.onreadystatechange=function(b){e(b);\\'loading\\'!==document.readyState&&(document.onreadystatechange=e,c())}}}})();</script></body>\\n</html>\\r\\n\\r\\n  at C:\\\\Users\\\\Semih\\\\PhpstormProjects\\\\modelotoparca\\\\app\\\\Services\\\\Bots\\\\OcpClient.php:31\\r\\n     27\\xe2\\x96\\x95             throw new \\\\Exception(\\'Response blocked by cloudflare.\\');\\r\\n     28\\xe2\\x96\\x95         }\\r\\n     29\\xe2\\x96\\x95 \\r\\n     30\\xe2\\x96\\x95         if (! ($httpStatusCode >= 200 && $httpStatusCode < 300)) {\\r\\n  \\xe2\\x9e\\x9c  31\\xe2\\x96\\x95             throw new OcpClientException($httpStatusCode, $url, $response);\\r\\n     32\\xe2\\x96\\x95         }\\r\\n     33\\xe2\\x96\\x95 \\r\\n     34\\xe2\\x96\\x95         return $response;\\r\\n     35\\xe2\\x96\\x95     }\\r\\n\\r\\n  1   C:\\\\Users\\\\Semih\\\\PhpstormProjects\\\\modelotoparca\\\\app\\\\Console\\\\Commands\\\\OcpCurlCommand.php:17\\r\\n      App\\\\Services\\\\Bots\\\\OcpClient::request(\"https://www.onlinecarparts.co.uk/car-brands/spare-parts-toyota-fj.html\")\\r\\n\\r\\n  2   C:\\\\Users\\\\Semih\\\\PhpstormProjects\\\\modelotoparca\\\\vendor\\\\laravel\\\\framework\\\\src\\\\Illuminate\\\\Container\\\\BoundMethod.php:36\\r\\n      App\\\\Console\\\\Commands\\\\OcpCurlCommand::handle()\\r\\n\\r\\n'"
     ]
    }
   ],
   "source": [
    "import json\n",
    "import re\n",
    "from typing import TypedDict, cast\n",
    "\n",
    "import utils\n",
    "from rich.progress import track\n",
    "\n",
    "\n",
    "def get_maker_urls():\n",
    "    soup = utils.soup(\"https://www.onlinecarparts.co.uk/car-brands.html\")\n",
    "    return [utils.get_link(el) for el in soup.select(\".top-auto .top-auto-item\")]\n",
    "\n",
    "\n",
    "def parse_car_permalink(permalink: str) -> str:\n",
    "    r = re.match(\n",
    "        r\"https://www.onlinecarparts.co.uk/car-brands/spare-parts-(.+?)/(.+).html\",\n",
    "        permalink,\n",
    "    )\n",
    "    maker, model = r.groups()\n",
    "    return f\"{maker}/{model}\"\n",
    "\n",
    "\n",
    "def get_cars(maker_url: str):\n",
    "    soup = utils.soup(maker_url)\n",
    "    return [\n",
    "        (\n",
    "            utils.get_link(el),\n",
    "            cast(str, el.select_one(\"img\")[\"src\"]),\n",
    "        )\n",
    "        for el in soup.select(\".top-auto .top-auto-item\")\n",
    "    ]\n",
    "\n",
    "\n",
    "def get_car_permalinks(car_url: str):\n",
    "    soup = utils.soup(car_url)\n",
    "    links = [utils.get_link(el) for el in soup.select(\".vehicle-list .vehicle-list__link\")]\n",
    "    return [parse_car_permalink(link) for link in links]\n",
    "\n",
    "\n",
    "maker_urls = get_maker_urls()\n",
    "cars = utils.flatten([get_cars(maker_url) for maker_url in track(maker_urls, \"Getting cars\")])\n",
    "\n",
    "\n",
    "class Record(TypedDict):\n",
    "    permalink: str\n",
    "    image: str\n",
    "\n",
    "\n",
    "records = utils.flatten(\n",
    "    [\n",
    "        [Record(permalink=permalink, image=img) for permalink in get_car_permalinks(url)]\n",
    "        for url, img in track(cars, \"Getting permalinks\")\n",
    "    ]\n",
    ")\n",
    "\n",
    "data = utils.mkpath(\"data/ocp_car_images\")\n",
    "record_file = data / \"records.json\"\n",
    "\n",
    "with record_file.open(\"w\") as f:\n",
    "    json.dump(records, f, indent=4)"
   ]
  },
  {
   "cell_type": "markdown",
   "metadata": {},
   "source": [
    "----"
   ]
  },
  {
   "cell_type": "code",
   "execution_count": null,
   "metadata": {},
   "outputs": [],
   "source": [
    "import json\n",
    "from typing import TypedDict, cast\n",
    "import utils\n",
    "import re\n",
    "\n",
    "\n",
    "class Record(TypedDict):\n",
    "    permalink: str\n",
    "    image: str\n",
    "\n",
    "\n",
    "data = utils.mkpath(\"data/ocp_car_images\")\n",
    "record_file = data / \"records.json\"\n",
    "\n",
    "\n",
    "with record_file.open(\"r\") as f:\n",
    "    records: list[Record] = json.load(f)\n",
    "\n",
    "\n",
    "def get_image_id(url: str):\n",
    "    return re.match(r\"https://scdn.autoteiledirekt.de/groups/170x100/(\\d+).png\", url).group(1)"
   ]
  },
  {
   "cell_type": "code",
   "execution_count": null,
   "metadata": {
    "tags": []
   },
   "outputs": [],
   "source": [
    "\n",
    "import utils\n",
    "from concurrent_download import download_concurrent\n",
    "\n",
    "image_path = utils.mkpath(data / \"images\")\n",
    "\n",
    "\n",
    "def get_img_path(url: str):\n",
    "    name = get_image_id(url)\n",
    "    return image_path / f\"{name}.png\"\n",
    "\n",
    "\n",
    "image_set = {r[\"image\"] for r in records}\n",
    "await download_concurrent(image_set, 20, get_img_path)"
   ]
  },
  {
   "cell_type": "code",
   "execution_count": null,
   "metadata": {},
   "outputs": [],
   "source": [
    "from db import Session, Image, Car\n",
    "from sqlalchemy import column, insert, select, table\n",
    "from rich.progress import track\n",
    "\n",
    "path_template = \"images/cars/{}.png\"\n",
    "with Session() as session:\n",
    "    for record in track(records):\n",
    "        path = path_template.format(get_image_id(record[\"image\"]))\n",
    "        permalink = record[\"permalink\"]\n",
    "        cars = session.scalars(select(Car).where(Car.permalink.contains(permalink))).all()\n",
    "        images = [dict(path=path, imageable_id=car.id, imageable_type=r\"\\App\\Models\\Car\") for car in cars]\n",
    "        session.execute(insert(Image).values(images).prefix_with(\"IGNORE\"))\n",
    "    session.commit()"
   ]
  }
 ],
 "metadata": {
  "kernelspec": {
   "display_name": "scraping-Cbcbn8WD",
   "language": "python",
   "name": "python3"
  },
  "language_info": {
   "codemirror_mode": {
    "name": "ipython",
    "version": 3
   },
   "file_extension": ".py",
   "mimetype": "text/x-python",
   "name": "python",
   "nbconvert_exporter": "python",
   "pygments_lexer": "ipython3",
   "version": "3.12.3"
  }
 },
 "nbformat": 4,
 "nbformat_minor": 2
}
